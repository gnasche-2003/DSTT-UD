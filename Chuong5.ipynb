{
  "nbformat": 4,
  "nbformat_minor": 0,
  "metadata": {
    "colab": {
      "private_outputs": true,
      "provenance": [],
      "authorship_tag": "ABX9TyOc8wRKXtxzW/ADmkGxGO/8",
      "include_colab_link": true
    },
    "kernelspec": {
      "name": "python3",
      "display_name": "Python 3"
    },
    "language_info": {
      "name": "python"
    }
  },
  "cells": [
    {
      "cell_type": "markdown",
      "metadata": {
        "id": "view-in-github",
        "colab_type": "text"
      },
      "source": [
        "<a href=\"https://colab.research.google.com/github/gnasche-2003/DSTT-UD/blob/main/Chuong5.ipynb\" target=\"_parent\"><img src=\"https://colab.research.google.com/assets/colab-badge.svg\" alt=\"Open In Colab\"/></a>"
      ]
    },
    {
      "cell_type": "markdown",
      "source": [
        "#HoVaTen: Pham Quoc Chuong\n",
        "#MaSV: 2174802010113\n",
        "#BaiTapChuong5: Mo Hinh Tuyet Tinh"
      ],
      "metadata": {
        "id": "mXfifoaAMI7i"
      }
    },
    {
      "cell_type": "code",
      "execution_count": null,
      "metadata": {
        "id": "XSrQl4BOLiKR"
      },
      "outputs": [],
      "source": [
        "#Bai1: Liên phân số biểu diễn số \u0001"
      ]
    },
    {
      "cell_type": "code",
      "source": [
        "import numpy as np"
      ],
      "metadata": {
        "id": "I8jdonCIMnZi"
      },
      "execution_count": null,
      "outputs": []
    },
    {
      "cell_type": "code",
      "source": [
        "c = [3,7,15,1,292,1,1,1,2,1,3,1,14,2]\n",
        "M = np.mat([ [1, 2], [3, 4] ])\n",
        "for i in range(len(c)):\n",
        "    ci = np.mat([ [1, 1], [1, 0] ])\n",
        "    ci[0, 0] = c[i]\n",
        "    if (i == 0):\n",
        "      M = ci\n",
        "    else:\n",
        "      M = M.dot(ci)\n",
        "\n",
        "print(M)\n",
        "print(M[0, 0]/ M[1, 0])"
      ],
      "metadata": {
        "id": "1ONGtmM2MxLb"
      },
      "execution_count": null,
      "outputs": []
    },
    {
      "cell_type": "code",
      "source": [
        "#bai2:"
      ],
      "metadata": {
        "id": "vnwCcWZPNs83"
      },
      "execution_count": null,
      "outputs": []
    },
    {
      "cell_type": "code",
      "source": [
        "import numpy as np\n",
        "from scipy import linalg"
      ],
      "metadata": {
        "id": "jWAmZgTJOFe6"
      },
      "execution_count": null,
      "outputs": []
    },
    {
      "cell_type": "code",
      "source": [
        "X = np.array([ [1, 1], [1, 2], [1, 3], [1, 4], [1, 5] ])\n",
        "X"
      ],
      "metadata": {
        "id": "4K0VkRV_OKh4"
      },
      "execution_count": null,
      "outputs": []
    },
    {
      "cell_type": "code",
      "source": [
        "Y = np.array([ [1], [2], [4], [4], [6] ])\n",
        "Y"
      ],
      "metadata": {
        "id": "KyQdTYfBOeFX"
      },
      "execution_count": null,
      "outputs": []
    },
    {
      "cell_type": "code",
      "source": [
        "XT = X.T # chuyen vi ma tran\n",
        "XT"
      ],
      "metadata": {
        "id": "aQHaO3h_Onje"
      },
      "execution_count": null,
      "outputs": []
    },
    {
      "cell_type": "code",
      "source": [
        "A1 = linalg.inv(XT.dot(X)) \n",
        "A1"
      ],
      "metadata": {
        "id": "2EG_bBlDOpxK"
      },
      "execution_count": null,
      "outputs": []
    },
    {
      "cell_type": "code",
      "source": [
        "A2 = XT.dot(Y)\n",
        "A2"
      ],
      "metadata": {
        "id": "H0gKJF94PTVc"
      },
      "execution_count": null,
      "outputs": []
    },
    {
      "cell_type": "code",
      "source": [
        "A = A1.dot(A2)\n",
        "print(\"Phương trình tuyến tính có 2 nghiệm: \", A) "
      ],
      "metadata": {
        "id": "7C1PW66cPlvC"
      },
      "execution_count": null,
      "outputs": []
    },
    {
      "cell_type": "code",
      "source": [
        "# Phương trình tuyến tính có dạng f(x) = a0 + a1x \n",
        "# f(x) = -0.2 + 1.2x"
      ],
      "metadata": {
        "id": "CfSbJmgKbZ42"
      },
      "execution_count": null,
      "outputs": []
    },
    {
      "cell_type": "code",
      "source": [
        "E = Y - (X.dot(A))\n",
        "E"
      ],
      "metadata": {
        "id": "tcPDklcUPsMq"
      },
      "execution_count": null,
      "outputs": []
    },
    {
      "cell_type": "code",
      "source": [
        "ET = E.T\n",
        "ET"
      ],
      "metadata": {
        "id": "I-cjrvr_P1YL"
      },
      "execution_count": null,
      "outputs": []
    },
    {
      "cell_type": "code",
      "source": [
        "e = ET.dot(E) \n",
        "e"
      ],
      "metadata": {
        "id": "APMaA3GHQ8aq"
      },
      "execution_count": null,
      "outputs": []
    },
    {
      "cell_type": "code",
      "source": [
        "# Vậy kết quả sai số e: 0.88"
      ],
      "metadata": {
        "id": "fXoMOT1mbjf9"
      },
      "execution_count": null,
      "outputs": []
    },
    {
      "cell_type": "code",
      "source": [
        "#bai3: "
      ],
      "metadata": {
        "id": "k0PjiaW5RGtw"
      },
      "execution_count": null,
      "outputs": []
    },
    {
      "cell_type": "code",
      "source": [
        "def bpcuctieu(a): #>>> dulieu = [10.0, 8, 7, 5, 2] >>> bpcuctieu(dulieu)\n",
        "  b = []\n",
        "  o1 = []\n",
        "  for i in range(len(a)):\n",
        "    o1.append(1.0)\n",
        "    b.append((i)*1.0)\n",
        "  x = np.array([o1, b]) #xay dung ma tran de tinh\n",
        "  u = np.dot(x, x.T) #luu y truong hop nay nguoc lai!!\n",
        "  y = np.array(a)\n",
        "  from numpy import linalg\n",
        "  u_1 = np.linalg.inv(u)\n",
        "  v = np.dot(u_1, x) # khong can x.T \n",
        "  A = np.dot(v, y)\n",
        "  return A"
      ],
      "metadata": {
        "id": "NfuuuxoqRXUo"
      },
      "execution_count": null,
      "outputs": []
    },
    {
      "cell_type": "code",
      "source": [
        "dulieu = [10, 8, 7, 5, 2]\n",
        "bpcuctieu(dulieu)"
      ],
      "metadata": {
        "id": "fqFfunKAUWhX"
      },
      "execution_count": null,
      "outputs": []
    },
    {
      "cell_type": "code",
      "source": [
        "# Phương trình tuyến tính có dạng f(x) = a0 + a1x \n",
        "# f(x) = 10.2 - 1.9x"
      ],
      "metadata": {
        "id": "Sq8IposLeBys"
      },
      "execution_count": null,
      "outputs": []
    }
  ]
}