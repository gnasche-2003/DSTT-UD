{
  "nbformat": 4,
  "nbformat_minor": 0,
  "metadata": {
    "colab": {
      "private_outputs": true,
      "provenance": [],
      "collapsed_sections": [],
      "authorship_tag": "ABX9TyP6d5swsqvJv6PUsAxP4wzO",
      "include_colab_link": true
    },
    "kernelspec": {
      "name": "python3",
      "display_name": "Python 3"
    },
    "language_info": {
      "name": "python"
    }
  },
  "cells": [
    {
      "cell_type": "markdown",
      "metadata": {
        "id": "view-in-github",
        "colab_type": "text"
      },
      "source": [
        "<a href=\"https://colab.research.google.com/github/gnasche-2003/DSTT-UD/blob/main/Chuong_3_2.ipynb\" target=\"_parent\"><img src=\"https://colab.research.google.com/assets/colab-badge.svg\" alt=\"Open In Colab\"/></a>"
      ]
    },
    {
      "cell_type": "code",
      "execution_count": null,
      "metadata": {
        "id": "ZPqfcDsveJOv"
      },
      "outputs": [],
      "source": [
        "# Họ và tên: Phạm Quốc Chương\n",
        "# MASV: 2174802010113\n",
        "# Chương 3: MA TRẬN VÀ HỆ PHƯƠNG TRÌNH TUYẾN TÍNH"
      ]
    },
    {
      "cell_type": "code",
      "source": [
        "#2. Tích (nhân) ma trận với ma trận\n",
        "#2.1. Nhân ma trận"
      ],
      "metadata": {
        "id": "4p6-3fvgeMN8"
      },
      "execution_count": null,
      "outputs": []
    },
    {
      "cell_type": "code",
      "source": [
        "#Bài tập minh họa: Tìm siêu thị bán hàng rẻ\n",
        "from scipy import linalg\n",
        "import numpy as np"
      ],
      "metadata": {
        "id": "I9_9jL33FeNT"
      },
      "execution_count": null,
      "outputs": []
    },
    {
      "cell_type": "code",
      "source": [
        "P = np.array([ [6, 5, 3, 1], [3, 6, 2, 2], [3, 4, 3, 1] ])\n",
        "P"
      ],
      "metadata": {
        "id": "GFQR2exPFrMg"
      },
      "execution_count": null,
      "outputs": []
    },
    {
      "cell_type": "code",
      "source": [
        "Q = np.array([ [1.5, 1.], [2., 2.5], [5., 4.5], [16., 17.] ])\n",
        "Q"
      ],
      "metadata": {
        "id": "1GvHyAlnGhpA"
      },
      "execution_count": null,
      "outputs": []
    },
    {
      "cell_type": "code",
      "source": [
        "kq = P.dot(Q)\n",
        "kq"
      ],
      "metadata": {
        "id": "CphabQWSG3yG"
      },
      "execution_count": null,
      "outputs": []
    },
    {
      "cell_type": "markdown",
      "source": [
        "Từ kết quả trên, chúng ta thấy ông Cảnh nên mua ở siêu thị S2, ông Nhật nên mua ở siêu thị S1\n",
        "và ông Hiếu có thể mua ở một trong hai siêu thị vì giá bằng nhau."
      ],
      "metadata": {
        "id": "ivbpraNuHBjk"
      }
    },
    {
      "cell_type": "code",
      "source": [
        "#2.2. Ma trận khả nghịch\n",
        "#2.3. Ma trận hội tụ"
      ],
      "metadata": {
        "id": "62LPp6seFcc0"
      },
      "execution_count": null,
      "outputs": []
    },
    {
      "cell_type": "code",
      "source": [
        "#Ma trận phân kỳ:"
      ],
      "metadata": {
        "id": "3mmtCgkZeTiL"
      },
      "execution_count": null,
      "outputs": []
    },
    {
      "cell_type": "code",
      "source": [
        "import numpy as np\n",
        "#Tính ma trận A:\n",
        "A = np.array([[0,1], [1,0]])\n",
        "print(A)"
      ],
      "metadata": {
        "id": "gEEINBnYeVas"
      },
      "execution_count": null,
      "outputs": []
    },
    {
      "cell_type": "code",
      "source": [
        "temp = A.dot(A)\n",
        "print(temp)"
      ],
      "metadata": {
        "id": "m2wRV6vIezOa"
      },
      "execution_count": null,
      "outputs": []
    },
    {
      "cell_type": "code",
      "source": [
        "k = 6\n",
        "for i in range(k-1):\n",
        "  temp = temp.dot(A)\n",
        "  print(temp)\n",
        "  print('---')"
      ],
      "metadata": {
        "id": "HRBlS2gEe0tf"
      },
      "execution_count": null,
      "outputs": []
    },
    {
      "cell_type": "code",
      "source": [
        "#Tính ma trận B:\n",
        "B = np.array([[0,-1], [-1,0]])\n",
        "print(B)"
      ],
      "metadata": {
        "id": "IBCLgIaOe2mG"
      },
      "execution_count": null,
      "outputs": []
    },
    {
      "cell_type": "code",
      "source": [
        "temp = B.dot(B)\n",
        "print(temp)"
      ],
      "metadata": {
        "id": "z3HuNjMje46K"
      },
      "execution_count": null,
      "outputs": []
    },
    {
      "cell_type": "code",
      "source": [
        "k = 5\n",
        "for i in range(k-1):\n",
        "  temp = temp.dot(B)\n",
        "  print(temp)\n",
        "  print('---')"
      ],
      "metadata": {
        "id": "AftD7LFye-QK"
      },
      "execution_count": null,
      "outputs": []
    },
    {
      "cell_type": "code",
      "source": [
        "#Ma trận hội tụ - Convergent matrix:\n",
        "C = np.array([ [1,0,0], [0,0.5,1], [0,0,0.5] ])\n",
        "print(C)"
      ],
      "metadata": {
        "id": "_A_Pg9MRfAGM"
      },
      "execution_count": null,
      "outputs": []
    },
    {
      "cell_type": "code",
      "source": [
        "temp = C.dot(C)\n",
        "print(temp)"
      ],
      "metadata": {
        "id": "mT5_d0S1fB1q"
      },
      "execution_count": null,
      "outputs": []
    },
    {
      "cell_type": "code",
      "source": [
        "k = 1000\n",
        "for i in range(k-1):\n",
        "  temp = temp.dot(C)\n",
        "print(temp)"
      ],
      "metadata": {
        "id": "gGYFvPtSfD4X"
      },
      "execution_count": null,
      "outputs": []
    },
    {
      "cell_type": "code",
      "source": [
        "#2.4. Ma trận Markov\n",
        "M = np.array([ [0.8, 0.3], [0.2, 0.7] ])\n",
        "MM = M.dot(M)  ## tính M2, nghĩa là M2\n",
        "MM"
      ],
      "metadata": {
        "id": "J6mKFLrHfJBW"
      },
      "execution_count": null,
      "outputs": []
    },
    {
      "cell_type": "code",
      "source": [
        "MMM = MM.dot(M)    # tính M3\n",
        "print(MMM)"
      ],
      "metadata": {
        "id": "D3qCIKzKfT6N"
      },
      "execution_count": null,
      "outputs": []
    },
    {
      "cell_type": "code",
      "source": [
        "for i in range(100):    # tính các M^ khác.\n",
        "  MM = MM.dot(M)\n",
        "print(MM)    # kết luận xu hướng của M vô cùng"
      ],
      "metadata": {
        "id": "CbEd2Ca7fVhO"
      },
      "execution_count": null,
      "outputs": []
    },
    {
      "cell_type": "code",
      "source": [
        "#3. Phương trình ma trận\n",
        "#3.1. Khái niệm về tách ma trận \n",
        "#3.2. Phân rã ma trận LU"
      ],
      "metadata": {
        "id": "D2aNV9UsfXCz"
      },
      "execution_count": null,
      "outputs": []
    },
    {
      "cell_type": "code",
      "source": [
        "from scipy import linalg\n",
        "import numpy as np\n",
        "M = np.array([ [0.8,0.3], [0.2, 0.7] ])\n",
        "P, L, U = linalg.lu(M)\n",
        "P"
      ],
      "metadata": {
        "id": "cy-9I2qAfYwq"
      },
      "execution_count": null,
      "outputs": []
    },
    {
      "cell_type": "code",
      "source": [
        "L"
      ],
      "metadata": {
        "id": "wN1UQTCAfaS-"
      },
      "execution_count": null,
      "outputs": []
    },
    {
      "cell_type": "code",
      "source": [
        "U"
      ],
      "metadata": {
        "id": "m2ZbdCQzgmKq"
      },
      "execution_count": null,
      "outputs": []
    },
    {
      "cell_type": "code",
      "source": [
        "L.dot(U)"
      ],
      "metadata": {
        "id": "oapK5P29gn8n"
      },
      "execution_count": null,
      "outputs": []
    },
    {
      "cell_type": "code",
      "source": [
        "#5. Bài toán ứng dụng 2 – Bài toán loan tin "
      ],
      "metadata": {
        "id": "AqyFn_3UgpyS"
      },
      "execution_count": null,
      "outputs": []
    },
    {
      "cell_type": "code",
      "source": [
        "import numpy as np\n",
        "A = np.array([[0,1,0,1], [0,0,1,0], [1,0,0,1], [1,1,0,0]])\n",
        "temp = A.dot(A)\n",
        "print(temp)"
      ],
      "metadata": {
        "id": "0CHrLEDQhWyG"
      },
      "execution_count": null,
      "outputs": []
    },
    {
      "cell_type": "code",
      "source": [
        "temp = temp.dot(A)\n",
        "print(temp)"
      ],
      "metadata": {
        "id": "xdbZHkOcilaj"
      },
      "execution_count": null,
      "outputs": []
    },
    {
      "cell_type": "code",
      "source": [
        "import numpy as np\n",
        "A = np.array([ [0,1,0,1], [0,0,1,0], [1,0,0,1], [1,1,0,0] ])\n",
        "sumA = A\n",
        "temp = A.dot(A)\n",
        "k = 3\n",
        "sumA += temp\n",
        "for i in range(1, k - 1):\n",
        "  temp = temp.dot(A)\n",
        "  sumA += temp"
      ],
      "metadata": {
        "id": "1oIiif4di0oV"
      },
      "execution_count": null,
      "outputs": []
    },
    {
      "cell_type": "code",
      "source": [
        "print(temp)"
      ],
      "metadata": {
        "id": "r-jw8-iVj5cs"
      },
      "execution_count": null,
      "outputs": []
    },
    {
      "cell_type": "code",
      "source": [
        "print(sumA)"
      ],
      "metadata": {
        "id": "prMoHGSTjTjW"
      },
      "execution_count": null,
      "outputs": []
    },
    {
      "cell_type": "code",
      "source": [
        "#Câu 1: Hãy viết chương trình bằng Python hoặc sử dụng thư viện numpy/sympy để:"
      ],
      "metadata": {
        "id": "kdnaF1WSj-pt"
      },
      "execution_count": null,
      "outputs": []
    },
    {
      "cell_type": "code",
      "source": [
        "#a. Tự chọn một ma trận khả nghịch 3x3. Sinh viên chứng minh ma trận đó khả nghịch (tồn tại ma trận nghịch đảo)"
      ],
      "metadata": {
        "id": "IbbIUIzGkNoJ"
      },
      "execution_count": null,
      "outputs": []
    },
    {
      "cell_type": "code",
      "source": [
        "from scipy import linalg\n",
        "import numpy as np "
      ],
      "metadata": {
        "id": "wLrZyU56IIAi"
      },
      "execution_count": null,
      "outputs": []
    },
    {
      "cell_type": "code",
      "source": [
        "C = np.array([ [-2, 1, 2], [1, -1, 3], [-1, 1, -4] ]) #Cho ma trận C\n",
        "C"
      ],
      "metadata": {
        "id": "HZ6tjyCzIeNh"
      },
      "execution_count": null,
      "outputs": []
    },
    {
      "cell_type": "code",
      "source": [
        "C_ = linalg.inv(C) # C_ la ma tran kha nghich\n",
        "C_"
      ],
      "metadata": {
        "id": "fUIJsAkCIx2o"
      },
      "execution_count": null,
      "outputs": []
    },
    {
      "cell_type": "code",
      "source": [
        "#b. Nhập họ và tên hoặc mã số sinh viên (của sinh viên).\n",
        "# Ho va ten: Phạm Quốc Chương"
      ],
      "metadata": {
        "id": "VLWIqupXJTIz"
      },
      "execution_count": null,
      "outputs": []
    },
    {
      "cell_type": "code",
      "source": [
        "#c. Mã hóa họ và tên hoặc mã số sinh viên (của sinh viên). \n",
        "# CHUOI CAN MA HOA :   P  H  A  .  M     Q  U  Ô  '  C     C  H  Ư  Ơ  N  G \n",
        "# MA CUA CHUOI:       25  16 06 04 20 05 26 30 24 00 10 05 10 16 31 23 21 15\n",
        "# CHUOI SO TUONG UNG: 20  11 01 34 15 00 21 25 19 30 05 00 05 11 26 18 16 10"
      ],
      "metadata": {
        "id": "xKmw2tavKUQ3"
      },
      "execution_count": null,
      "outputs": []
    },
    {
      "cell_type": "code",
      "source": [
        "#d. Thực hiện giải mã với ma trận được chọn"
      ],
      "metadata": {
        "id": "RIlFINseKY8_"
      },
      "execution_count": null,
      "outputs": []
    },
    {
      "cell_type": "code",
      "source": [
        "str_1 = np.matrix( [20, 11, 1] ) # 3 ki tu dau [ P H A ]\n",
        "kq_1 = str_1.dot(C)\n",
        "kq_1                           # str_1 duoc ma hoa"
      ],
      "metadata": {
        "id": "ZSPYMaapKbSK"
      },
      "execution_count": null,
      "outputs": []
    },
    {
      "cell_type": "code",
      "source": [
        "str_2 = np.matrix( [34, 15, 0] ) # 3 ki tu ke tiep [. M  ]\n",
        "kq_2 = str_2.dot(C)\n",
        "kq_2                           # str_2 duoc ma hoa"
      ],
      "metadata": {
        "id": "iJQ3hOcgNSpU"
      },
      "execution_count": null,
      "outputs": []
    },
    {
      "cell_type": "code",
      "source": [
        "str_3 = np.matrix( [21, 25, 19] ) # 3 li tu ke tiep [ Q U Ô ]\n",
        "kq_3 = str_3.dot(C)\n",
        "kq_3                           # str_3 duoc ma hoa"
      ],
      "metadata": {
        "id": "SQp_59IeNkhL"
      },
      "execution_count": null,
      "outputs": []
    },
    {
      "cell_type": "code",
      "source": [
        "str_4 = np.matrix( [30, 5, 0] ) # 3 ki tu ke tiep [' C  ]\n",
        "kq_4 = str_4.dot(C)\n",
        "kq_4                           # str_4 duoc ma hoa"
      ],
      "metadata": {
        "id": "fDegx_DPOfQ_"
      },
      "execution_count": null,
      "outputs": []
    },
    {
      "cell_type": "code",
      "source": [
        "str_5 = np.matrix( [5, 11, 26] ) # 3 ki tu ke tiep [C H Ư ]\n",
        "kq_5 = str_5.dot(C)\n",
        "kq_5                           # str_5 duoc ma hoa"
      ],
      "metadata": {
        "id": "5giXD0LEPEjt"
      },
      "execution_count": null,
      "outputs": []
    },
    {
      "cell_type": "code",
      "source": [
        "str_6 = np.matrix( [18, 16, 20] ) # 3 ki tu cuoi cung [ Ơ N G ]\n",
        "kq_6 = str_6.dot(C)\n",
        "kq_6                           # str_6 duoc ma hoa"
      ],
      "metadata": {
        "id": "CwvzyLAaP9Ga"
      },
      "execution_count": null,
      "outputs": []
    },
    {
      "cell_type": "code",
      "source": [
        "# Phục hồi bằng cách lấy dãy mã hóa nhân với nghịch đảo ma trận."
      ],
      "metadata": {
        "id": "Sg5JrFeNQVLD"
      },
      "execution_count": null,
      "outputs": []
    },
    {
      "cell_type": "code",
      "source": [
        "ph_1 = kq_1.dot(C_) # phuc hoi str_1\n",
        "ph_1"
      ],
      "metadata": {
        "id": "RsIlxkeKQkiU"
      },
      "execution_count": null,
      "outputs": []
    },
    {
      "cell_type": "code",
      "source": [
        "ph_2 = kq_2.dot(C_) # phuc hoi str_2\n",
        "ph_2"
      ],
      "metadata": {
        "id": "0Y-hqO2zQ1zk"
      },
      "execution_count": null,
      "outputs": []
    },
    {
      "cell_type": "code",
      "source": [
        "ph_3 = kq_3.dot(C_) # phuc hoi str_3\n",
        "ph_3"
      ],
      "metadata": {
        "id": "KkWgp7YlQ79I"
      },
      "execution_count": null,
      "outputs": []
    },
    {
      "cell_type": "code",
      "source": [
        "ph_4 = kq_4.dot(C_) # phuc hoi str_4\n",
        "ph_4"
      ],
      "metadata": {
        "id": "dtblsdHhRBw3"
      },
      "execution_count": null,
      "outputs": []
    },
    {
      "cell_type": "code",
      "source": [
        "ph_5 = kq_5.dot(C_) # phuc hoi str_5\n",
        "ph_5"
      ],
      "metadata": {
        "id": "FWXNWtYyRo7z"
      },
      "execution_count": null,
      "outputs": []
    },
    {
      "cell_type": "code",
      "source": [
        "ph_6 = kq_6.dot(C_) # phuc hoi str_6\n",
        "ph_6"
      ],
      "metadata": {
        "id": "ev1ke0gKRx-h"
      },
      "execution_count": null,
      "outputs": []
    },
    {
      "cell_type": "code",
      "source": [
        "# Ban đầu khi dịch mã ta -5 để được chuỗi số tương ứng, sau khi phục hồi xong ta + 5 để quay lại mã ban đầu mã hóa."
      ],
      "metadata": {
        "id": "RqcDQtyXWQBs"
      },
      "execution_count": null,
      "outputs": []
    },
    {
      "cell_type": "code",
      "source": [
        "ph_1 + 5 # chuyen ve ma tran ban dau"
      ],
      "metadata": {
        "id": "jMhLmwBgXyZg"
      },
      "execution_count": null,
      "outputs": []
    },
    {
      "cell_type": "code",
      "source": [
        "ph_2 + 5 # chuyen ve ma tran ban dau"
      ],
      "metadata": {
        "id": "5GppDH-aYHST"
      },
      "execution_count": null,
      "outputs": []
    },
    {
      "cell_type": "code",
      "source": [
        "ph_3 + 5 # chuyen ve ma tran ban dau"
      ],
      "metadata": {
        "id": "Go-lf-jcYRU2"
      },
      "execution_count": null,
      "outputs": []
    },
    {
      "cell_type": "code",
      "source": [
        "ph_4 + 5 # chuyen ve ma tran ban dau"
      ],
      "metadata": {
        "id": "WIlsTDeQYR7N"
      },
      "execution_count": null,
      "outputs": []
    },
    {
      "cell_type": "code",
      "source": [
        "ph_5 + 5 # chuyen ve ma tran ban dau"
      ],
      "metadata": {
        "id": "YbC5X9alYSYB"
      },
      "execution_count": null,
      "outputs": []
    },
    {
      "cell_type": "code",
      "source": [
        "ph_6 + 5 # chuyen ve ma tran ban dau"
      ],
      "metadata": {
        "id": "n7h3gblfYS6g"
      },
      "execution_count": null,
      "outputs": []
    }
  ]
}