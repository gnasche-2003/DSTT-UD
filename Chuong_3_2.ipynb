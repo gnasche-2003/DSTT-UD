{
  "nbformat": 4,
  "nbformat_minor": 0,
  "metadata": {
    "colab": {
      "private_outputs": true,
      "provenance": [],
      "collapsed_sections": [],
      "authorship_tag": "ABX9TyPx/3MaWu1OCBkFva1LASdr",
      "include_colab_link": true
    },
    "kernelspec": {
      "name": "python3",
      "display_name": "Python 3"
    },
    "language_info": {
      "name": "python"
    }
  },
  "cells": [
    {
      "cell_type": "markdown",
      "metadata": {
        "id": "view-in-github",
        "colab_type": "text"
      },
      "source": [
        "<a href=\"https://colab.research.google.com/github/gnasche-2003/DSTT-UD/blob/main/Chuong_3_2.ipynb\" target=\"_parent\"><img src=\"https://colab.research.google.com/assets/colab-badge.svg\" alt=\"Open In Colab\"/></a>"
      ]
    },
    {
      "cell_type": "code",
      "execution_count": null,
      "metadata": {
        "id": "ZPqfcDsveJOv"
      },
      "outputs": [],
      "source": [
        "# Họ và tên: Phạm Quốc Chương\n",
        "# MASV: 2174802010113\n",
        "# Chương 3: MA TRẬN VÀ HỆ PHƯƠNG TRÌNH TUYẾN TÍNH"
      ]
    },
    {
      "cell_type": "code",
      "source": [
        "#2. Tích (nhân) ma trận với ma trận\n",
        "#2.1. Nhân ma trận\n",
        "#2.2. Ma trận khả nghịch\n",
        "#2.3. Ma trận hội tụ"
      ],
      "metadata": {
        "id": "4p6-3fvgeMN8"
      },
      "execution_count": null,
      "outputs": []
    },
    {
      "cell_type": "code",
      "source": [
        "#Ma trận phân kỳ:"
      ],
      "metadata": {
        "id": "3mmtCgkZeTiL"
      },
      "execution_count": null,
      "outputs": []
    },
    {
      "cell_type": "code",
      "source": [
        "import numpy as np\n",
        "#Tính ma trận A:\n",
        "A = np.array([[0,1], [1,0]])\n",
        "print(A)"
      ],
      "metadata": {
        "id": "gEEINBnYeVas"
      },
      "execution_count": null,
      "outputs": []
    },
    {
      "cell_type": "code",
      "source": [
        "temp = A.dot(A)\n",
        "print(temp)"
      ],
      "metadata": {
        "id": "m2wRV6vIezOa"
      },
      "execution_count": null,
      "outputs": []
    },
    {
      "cell_type": "code",
      "source": [
        "k = 6\n",
        "for i in range(k-1):\n",
        "  temp = temp.dot(A)\n",
        "  print(temp)\n",
        "  print('---')"
      ],
      "metadata": {
        "id": "HRBlS2gEe0tf"
      },
      "execution_count": null,
      "outputs": []
    },
    {
      "cell_type": "code",
      "source": [
        "#Tính ma trận B:\n",
        "B = np.array([[0,-1], [-1,0]])\n",
        "print(B)"
      ],
      "metadata": {
        "id": "IBCLgIaOe2mG"
      },
      "execution_count": null,
      "outputs": []
    },
    {
      "cell_type": "code",
      "source": [
        "temp = B.dot(B)\n",
        "print(temp)"
      ],
      "metadata": {
        "id": "z3HuNjMje46K"
      },
      "execution_count": null,
      "outputs": []
    },
    {
      "cell_type": "code",
      "source": [
        "k = 5\n",
        "for i in range(k-1):\n",
        "  temp = temp.dot(B)\n",
        "  print(temp)\n",
        "  print('---')"
      ],
      "metadata": {
        "id": "AftD7LFye-QK"
      },
      "execution_count": null,
      "outputs": []
    },
    {
      "cell_type": "code",
      "source": [
        "#Ma trận hội tụ - Convergent matrix:\n",
        "C = np.array([ [1,0,0], [0,0.5,1], [0,0,0.5] ])\n",
        "print(C)"
      ],
      "metadata": {
        "id": "_A_Pg9MRfAGM"
      },
      "execution_count": null,
      "outputs": []
    },
    {
      "cell_type": "code",
      "source": [
        "temp = C.dot(C)\n",
        "print(temp)"
      ],
      "metadata": {
        "id": "mT5_d0S1fB1q"
      },
      "execution_count": null,
      "outputs": []
    },
    {
      "cell_type": "code",
      "source": [
        "k = 1000\n",
        "for i in range(k-1):\n",
        "  temp = temp.dot(C)\n",
        "print(temp)"
      ],
      "metadata": {
        "id": "gGYFvPtSfD4X"
      },
      "execution_count": null,
      "outputs": []
    },
    {
      "cell_type": "code",
      "source": [
        "#2.4. Ma trận Markov\n",
        "M = np.array([ [0.8, 0.3], [0.2, 0.7] ])\n",
        "MM = M.dot(M)\n",
        "MM"
      ],
      "metadata": {
        "id": "J6mKFLrHfJBW"
      },
      "execution_count": null,
      "outputs": []
    },
    {
      "cell_type": "code",
      "source": [
        "MM = M.dot(M)\n",
        "print(MM)"
      ],
      "metadata": {
        "id": "D3qCIKzKfT6N"
      },
      "execution_count": null,
      "outputs": []
    },
    {
      "cell_type": "code",
      "source": [
        "for i in range(100):\n",
        "  MM = MM.dot(M)\n",
        "print(MM)"
      ],
      "metadata": {
        "id": "CbEd2Ca7fVhO"
      },
      "execution_count": null,
      "outputs": []
    },
    {
      "cell_type": "code",
      "source": [
        "#3. Phương trình ma trận\n",
        "#3.1. Khái niệm về tách ma trận \n",
        "#3.2. Phân rã ma trận LU"
      ],
      "metadata": {
        "id": "D2aNV9UsfXCz"
      },
      "execution_count": null,
      "outputs": []
    },
    {
      "cell_type": "code",
      "source": [
        "from scipy import linalg\n",
        "import numpy as np\n",
        "M = np.array([ [0.8,0.3], [0.2, 0.7] ])\n",
        "P, L, U = linalg.lu(M)\n",
        "P"
      ],
      "metadata": {
        "id": "cy-9I2qAfYwq"
      },
      "execution_count": null,
      "outputs": []
    },
    {
      "cell_type": "code",
      "source": [
        "L"
      ],
      "metadata": {
        "id": "wN1UQTCAfaS-"
      },
      "execution_count": null,
      "outputs": []
    },
    {
      "cell_type": "code",
      "source": [
        "U"
      ],
      "metadata": {
        "id": "m2ZbdCQzgmKq"
      },
      "execution_count": null,
      "outputs": []
    },
    {
      "cell_type": "code",
      "source": [
        "L.dot(U)"
      ],
      "metadata": {
        "id": "oapK5P29gn8n"
      },
      "execution_count": null,
      "outputs": []
    },
    {
      "cell_type": "code",
      "source": [
        "#5. Bài toán ứng dụng 2 – Bài toán loan tin "
      ],
      "metadata": {
        "id": "AqyFn_3UgpyS"
      },
      "execution_count": null,
      "outputs": []
    },
    {
      "cell_type": "code",
      "source": [
        "import numpy as np\n",
        "A = np.array([[0,1,0,1], [0,0,1,0], [1,0,0,1], [1,1,0,0]])\n",
        "temp = A.dot(A)\n",
        "print(temp)"
      ],
      "metadata": {
        "id": "0CHrLEDQhWyG"
      },
      "execution_count": null,
      "outputs": []
    },
    {
      "cell_type": "code",
      "source": [
        "temp = temp.dot(A)\n",
        "print(temp)"
      ],
      "metadata": {
        "id": "xdbZHkOcilaj"
      },
      "execution_count": null,
      "outputs": []
    },
    {
      "cell_type": "code",
      "source": [
        "import numpy as np\n",
        "A = np.array([ [0,1,0,1], [0,0,1,0], [1,0,0,1], [1,1,0,0] ])\n",
        "sumA = A\n",
        "temp = A.dot(A)\n",
        "k = 3\n",
        "sumA += temp\n",
        "for i in range(1, k - 1):\n",
        "  temp = temp.dot(A)\n",
        "  sumA += temp"
      ],
      "metadata": {
        "id": "1oIiif4di0oV"
      },
      "execution_count": null,
      "outputs": []
    },
    {
      "cell_type": "code",
      "source": [
        "print(temp)"
      ],
      "metadata": {
        "id": "r-jw8-iVj5cs"
      },
      "execution_count": null,
      "outputs": []
    },
    {
      "cell_type": "code",
      "source": [
        "print(sumA)"
      ],
      "metadata": {
        "id": "prMoHGSTjTjW"
      },
      "execution_count": null,
      "outputs": []
    },
    {
      "cell_type": "code",
      "source": [
        "#Câu 2: Tính toán phân số từ liên phân số (continued fractions)"
      ],
      "metadata": {
        "id": "kdnaF1WSj-pt"
      },
      "execution_count": null,
      "outputs": []
    },
    {
      "cell_type": "code",
      "source": [],
      "metadata": {
        "id": "IbbIUIzGkNoJ"
      },
      "execution_count": null,
      "outputs": []
    }
  ]
}