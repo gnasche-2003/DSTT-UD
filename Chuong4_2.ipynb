{
  "nbformat": 4,
  "nbformat_minor": 0,
  "metadata": {
    "colab": {
      "private_outputs": true,
      "provenance": [],
      "collapsed_sections": [],
      "authorship_tag": "ABX9TyOMQCCvh0DvV8OPkcjzpX3z",
      "include_colab_link": true
    },
    "kernelspec": {
      "name": "python3",
      "display_name": "Python 3"
    },
    "language_info": {
      "name": "python"
    }
  },
  "cells": [
    {
      "cell_type": "markdown",
      "metadata": {
        "id": "view-in-github",
        "colab_type": "text"
      },
      "source": [
        "<a href=\"https://colab.research.google.com/github/gnasche-2003/DSTT-UD/blob/main/Chuong4_2.ipynb\" target=\"_parent\"><img src=\"https://colab.research.google.com/assets/colab-badge.svg\" alt=\"Open In Colab\"/></a>"
      ]
    },
    {
      "cell_type": "code",
      "execution_count": null,
      "metadata": {
        "id": "aDLvrsHCG3HI"
      },
      "outputs": [],
      "source": [
        "# Họ và tên: Phạm Quốc Chương\n",
        "# MASV: 2184802010113\n",
        "# CHƯƠNG 4_2: CƠ BẢN VỀ ĐỊNH THỨC"
      ]
    },
    {
      "cell_type": "code",
      "source": [
        "# Bai 1: He 3 phuong trinh tuyen tinh bac 1:\n",
        "# Giai he phuong trinh tuyen tinh sau voi 2 cach:\n",
        "# + Su dung ham det() cua lop linalg cua thu vien scipy\n",
        "# + Su dung ham tinhtoan_dinhthuc() viet ben tren"
      ],
      "metadata": {
        "id": "s2FRnuDOG_Dx"
      },
      "execution_count": null,
      "outputs": []
    },
    {
      "cell_type": "markdown",
      "source": [
        "Su dung ham scipy"
      ],
      "metadata": {
        "id": "djXWQ00DM2id"
      }
    },
    {
      "cell_type": "code",
      "source": [
        "import numpy as np"
      ],
      "metadata": {
        "id": "OiiPtcU1MfwM"
      },
      "execution_count": null,
      "outputs": []
    },
    {
      "cell_type": "code",
      "source": [
        "B = np.array([[1,3,-2],[2,1,3],[3,-1,4]])\n",
        "B1 = np.array([[-3,3,-2],[6,1,3],[11,-1,4]])\n",
        "B2 = np.array([[1,-3,-2],[2,6,3],[3,11,4]])\n",
        "B3 = np.array([[1,3,-3],[2,1,6],[3,-1,11]])"
      ],
      "metadata": {
        "id": "PBwp4pUVMo_7"
      },
      "execution_count": null,
      "outputs": []
    },
    {
      "cell_type": "code",
      "source": [
        "from scipy import linalg"
      ],
      "metadata": {
        "id": "4DpnYnsgNBwA"
      },
      "execution_count": null,
      "outputs": []
    },
    {
      "cell_type": "code",
      "source": [
        "detB = linalg.det(B)\n",
        "detB1 = linalg.det(B1)\n",
        "detB2 = linalg.det(B2)\n",
        "detB3 = linalg.det(B3)\n",
        "print(detB,detB1,detB2,detB3)"
      ],
      "metadata": {
        "id": "fg6YYFelNHzL"
      },
      "execution_count": null,
      "outputs": []
    },
    {
      "cell_type": "code",
      "source": [
        "if  (detB != 0):\n",
        "    x1 = detB1 / detB\n",
        "    x2 = detB2 / detB\n",
        "    x3 = detB3 / detB\n",
        "    print(\"Ba nghiệm của phương trình là:\",x1, x2, x3)"
      ],
      "metadata": {
        "id": "DicQOvq-NIJx"
      },
      "execution_count": null,
      "outputs": []
    },
    {
      "cell_type": "code",
      "source": [
        "import numpy as np"
      ],
      "metadata": {
        "id": "xTT8jyw3N6eE"
      },
      "execution_count": null,
      "outputs": []
    },
    {
      "cell_type": "code",
      "source": [
        "C = np.array([[1,1,1,],[2,-1,1],[1,-1,2]])\n",
        "C1 = np.array([[6,1,1],[3,-1,1],[5,-1,2]])\n",
        "C2 = np.array([[1,6,1],[2,3,1],[1,5,2]])\n",
        "C3 = np.array([[1,1,6],[2,-1,3],[1,-1,5]])"
      ],
      "metadata": {
        "id": "gStv8KMhN716"
      },
      "execution_count": null,
      "outputs": []
    },
    {
      "cell_type": "code",
      "source": [
        "from scipy import linalg"
      ],
      "metadata": {
        "id": "hTWciCuKN-CA"
      },
      "execution_count": null,
      "outputs": []
    },
    {
      "cell_type": "code",
      "source": [
        "detC = linalg.det(C)\n",
        "detC1 = linalg.det(C1)\n",
        "detC2 = linalg.det(C2)\n",
        "detC3 = linalg.det(C3)\n",
        "print(detC,detC1,detC2,detC3)"
      ],
      "metadata": {
        "id": "BuGy3SzVOAaZ"
      },
      "execution_count": null,
      "outputs": []
    },
    {
      "cell_type": "code",
      "source": [
        "if  (detC != 0):\n",
        "    x1 = detC1 / detC\n",
        "    x2 = detC2 / detC\n",
        "    x3 = detC3 / detC\n",
        "    print(\"Ba nghiệm của phương trình là:\",x1, x2, x3)"
      ],
      "metadata": {
        "id": "H_LAmZSQOA1J"
      },
      "execution_count": null,
      "outputs": []
    },
    {
      "cell_type": "markdown",
      "source": [
        "Su dung ham tinhtoan_dinhthuc"
      ],
      "metadata": {
        "id": "TCqczKmFO6Yr"
      }
    },
    {
      "cell_type": "code",
      "source": [
        "import numpy as np\n",
        "from itertools import permutations"
      ],
      "metadata": {
        "id": "gAXuZ5_pO_A6"
      },
      "execution_count": null,
      "outputs": []
    },
    {
      "cell_type": "code",
      "source": [
        "def sgn_by_def(sigma):\n",
        "    ket_qua = 1.0\n",
        "    chieudai = len(sigma)\n",
        "    X = np.array(range(1,chieudai+1))\n",
        "    for i in range(chieudai-1):\n",
        "            for j in range(i+1,len(X)):\n",
        "                    ket_qua = ket_qua * ((X[i] - X[j]) / (sigma[i] - sigma[j])) \n",
        "    return int(ket_qua)"
      ],
      "metadata": {
        "id": "7jayrg9JPCJE"
      },
      "execution_count": null,
      "outputs": []
    },
    {
      "cell_type": "code",
      "source": [
        "def tinhtoan_dinhthuc(A): \n",
        "    X = []\n",
        "    import math # bổ sung để sử dụng sqrt\n",
        "    n = int(math.sqrt (A.size)) # <-- với ma trận vuông, kích thuốc là căn số\n",
        "    for i in range(1, n + 1): \n",
        "          X.append (i) \n",
        "    Sn = list(permutations(X)) \n",
        "    dinhthuc = 0 # ban đầu giá trị định thức là 0 \n",
        "    for sn in Sn: \n",
        "            sigma = np.array([1]) \n",
        "            sigma.resize([n]) \n",
        "            product = 1  #đặt giá trị cho tích ban đầu là 1 \n",
        "            for i in range(1, n + 1): \n",
        "                    sigma[sn.index(i)] = i \n",
        "                    product = product * A[i-1][sn.index(i)] # Lưu ý chi so \n",
        "                    #print (A [i-1] [sn.index (i))) \n",
        "            dau = sgn_by_def(sigma) \n",
        "            if (dau != 1): # không xét trường hợp dầu 1 \n",
        "                 product = product * (-1)  # khi dầu - 1 thì nhân với 1 \n",
        "            dinhthuc = dinhthuc + product \n",
        "    return dinhthuc"
      ],
      "metadata": {
        "id": "gcBe3oPfPEWD"
      },
      "execution_count": null,
      "outputs": []
    },
    {
      "cell_type": "code",
      "source": [
        "#a_cach2"
      ],
      "metadata": {
        "id": "X0pprO1xPGR6"
      },
      "execution_count": null,
      "outputs": []
    },
    {
      "cell_type": "code",
      "source": [
        "detB = linalg.det(B)\n",
        "detB1 = linalg.det(B1)\n",
        "detB2 = linalg.det(B2)\n",
        "detB3 = linalg.det(B3)\n",
        "print(\"detB= \",tinhtoan_dinhthuc(B))\n",
        "print(\"detB1= \",tinhtoan_dinhthuc(B1))\n",
        "print(\"detB2= \",tinhtoan_dinhthuc(B2))\n",
        "print(\"detB3= \",tinhtoan_dinhthuc(B3))"
      ],
      "metadata": {
        "id": "uCO7-03SPLMA"
      },
      "execution_count": null,
      "outputs": []
    },
    {
      "cell_type": "code",
      "source": [
        "if (tinhtoan_dinhthuc(B) != 0):\n",
        "    x1 = (tinhtoan_dinhthuc(B1) / tinhtoan_dinhthuc(B))\n",
        "    x2 = (tinhtoan_dinhthuc(B2) / tinhtoan_dinhthuc(B))\n",
        "    x3 = (tinhtoan_dinhthuc(B3) / tinhtoan_dinhthuc(B))\n",
        "    print(\"Ba nghiệm của phương trình là: \",x1, x2, x3)"
      ],
      "metadata": {
        "id": "T8f0B48OPUFU"
      },
      "execution_count": null,
      "outputs": []
    },
    {
      "cell_type": "markdown",
      "source": [
        "B_cach_2"
      ],
      "metadata": {
        "id": "gPnxURSHQK-M"
      }
    },
    {
      "cell_type": "code",
      "source": [
        "detC = linalg.det(C)\n",
        "detC1 = linalg.det(C1)\n",
        "detC2 = linalg.det(C2)\n",
        "detC3 = linalg.det(C3)\n",
        "print(\"detC= \",tinhtoan_dinhthuc(C))\n",
        "print(\"detC1= \",tinhtoan_dinhthuc(C1))\n",
        "print(\"detC2= \",tinhtoan_dinhthuc(C2))\n",
        "print(\"detC3= \",tinhtoan_dinhthuc(C3))"
      ],
      "metadata": {
        "id": "BIhcpbG0P4oI"
      },
      "execution_count": null,
      "outputs": []
    },
    {
      "cell_type": "code",
      "source": [
        "if (tinhtoan_dinhthuc(C) != 0):\n",
        "    x1 = (tinhtoan_dinhthuc(C1) / tinhtoan_dinhthuc(C))\n",
        "    x2 = (tinhtoan_dinhthuc(C2) / tinhtoan_dinhthuc(C))\n",
        "    x3 = (tinhtoan_dinhthuc(C3) / tinhtoan_dinhthuc(C))\n",
        "    print(\"Ba nghiệm của phương trình là: \",x1, x2, x3)"
      ],
      "metadata": {
        "id": "EkoyaPW0P7wq"
      },
      "execution_count": null,
      "outputs": []
    },
    {
      "cell_type": "markdown",
      "source": [
        "#bai2: Cach bai toan ung dung"
      ],
      "metadata": {
        "id": "HPWwyyQ9QPiO"
      }
    },
    {
      "cell_type": "code",
      "source": [
        "#Bài toán ứng dụng 1: Tính diện tích đa giác, thể tích và các phương trình đường, mặt.\n",
        "#Ví dụ: Tính diện tích tam giác của 3 điểm sau A(1, 0), B(4,3), C(2,2)"
      ],
      "metadata": {
        "id": "rN8cEmolQOu1"
      },
      "execution_count": null,
      "outputs": []
    },
    {
      "cell_type": "code",
      "source": [
        "#Tính diện tích tam giác: \n",
        "import sympy as sp\n",
        "TG = sp.Matrix( [[1,0,1],[4,3,1],[2,2,1]] )"
      ],
      "metadata": {
        "id": "uFNoD2vZQlEK"
      },
      "execution_count": null,
      "outputs": []
    },
    {
      "cell_type": "code",
      "source": [
        "print(\"Kết quả diện tích tam giác là: \")\n",
        "1/2*TG.det()"
      ],
      "metadata": {
        "id": "sEOgOtElQ2Rq"
      },
      "execution_count": null,
      "outputs": []
    },
    {
      "cell_type": "code",
      "source": [
        "#Ứng dụng 1: Tính diện tích đa giác gồm p điểm (xi,y1)"
      ],
      "metadata": {
        "id": "-KvA8xzjRDfd"
      },
      "execution_count": null,
      "outputs": []
    },
    {
      "cell_type": "code",
      "source": [
        "import sympy as sp\n",
        "TGABD = sp.Matrix([ [4,10,1], [9,7,1], [2,2,1] ])\n",
        "TGBCD = sp.Matrix([ [9,7,1], [11,2,1], [2,2,1] ])"
      ],
      "metadata": {
        "id": "vhMAiJiXXGI_"
      },
      "execution_count": null,
      "outputs": []
    },
    {
      "cell_type": "code",
      "source": [
        "print(\"Diện tích đa giác lồi có 4 điểm: \")\n",
        "1/2*(TGABD.det() + TGBCD.det())"
      ],
      "metadata": {
        "id": "zK01qkApX-Lq"
      },
      "execution_count": null,
      "outputs": []
    },
    {
      "cell_type": "code",
      "source": [
        "#thuchanhungdung\n",
        "import sympy as sp\n",
        "TG123 = sp.Matrix([ [1181128.25, 603263.7, 1], [1181136.18, 603266.68, 1], [1181130.97, 603279.69, 1] ])\n",
        "TG345 = sp.Matrix([ [1181130.97, 603279.69, 1], [1181125.77, 603281.91, 1], [1181122.06, 603280.42, 1] ])\n",
        "TG135 = sp.Matrix([ [1181128.25, 603263.7, 1], [1181130.97, 603279.69, 1], [1181122.06, 603280.42, 1] ])"
      ],
      "metadata": {
        "id": "DgMUBU8fRbvZ"
      },
      "execution_count": null,
      "outputs": []
    },
    {
      "cell_type": "code",
      "source": [
        "print(\"Diện tích thửa đất:  \")\n",
        "1/2* (TG123.det() + TG345.det() + TG135.det())"
      ],
      "metadata": {
        "id": "Ej92gr94VoFA"
      },
      "execution_count": null,
      "outputs": []
    },
    {
      "cell_type": "code",
      "source": [
        "# Ứng dụng 2: Mở rộng bài toán tính diện tích thành thể tích hình tứ diện: \n",
        "# Hãy tính thể tích của một tứ diện gồm bốn điểm (0, 4, 1), (4, 0, 0), (3, 5, 2) và (2, 2, 5)."
      ],
      "metadata": {
        "id": "U-OAVsP5R56e"
      },
      "execution_count": null,
      "outputs": []
    },
    {
      "cell_type": "code",
      "source": [
        "import sympy as sp\n",
        "M = sp.Matrix([[0,4,1,1],[4,0,0,1],[3,5,2,1],[2,2,5,1]])\n",
        "M.det()"
      ],
      "metadata": {
        "id": "r-onnG5USAA5"
      },
      "execution_count": null,
      "outputs": []
    },
    {
      "cell_type": "code",
      "source": [
        "print(\"Thể tích của tứ diện là: \")\n",
        "1/6*M.det()"
      ],
      "metadata": {
        "id": "gydGd135SGdP"
      },
      "execution_count": null,
      "outputs": []
    },
    {
      "cell_type": "code",
      "source": [
        "# Ứng dụng 4: Phương trình mặt phẳng\n",
        "# Hãy viết phương trình mặt phẳng đi qua 3 điểm (-1, 3, 2), (0, 1, 0), (-2, 0, 1). "
      ],
      "metadata": {
        "id": "90X-_A7LSfye"
      },
      "execution_count": null,
      "outputs": []
    },
    {
      "cell_type": "code",
      "source": [
        "from sympy import * # luc nay ta su dung truc tiep thu vien\n",
        "x, y, z = symbols(\"x y z\")"
      ],
      "metadata": {
        "id": "R50It6X3S3hc"
      },
      "execution_count": null,
      "outputs": []
    },
    {
      "cell_type": "code",
      "source": [
        "MP = Matrix([ [x,y,z,1],[-1,3,2,1],[0,1,0,1],[-2,0,1,1] ])"
      ],
      "metadata": {
        "id": "rSc5eYMdS-a2"
      },
      "execution_count": null,
      "outputs": []
    },
    {
      "cell_type": "code",
      "source": [
        "print(\"Phương trình mặt phẳng:\")\n",
        "MP.det()"
      ],
      "metadata": {
        "id": "9Qb8g_icTUMm"
      },
      "execution_count": null,
      "outputs": []
    }
  ]
}