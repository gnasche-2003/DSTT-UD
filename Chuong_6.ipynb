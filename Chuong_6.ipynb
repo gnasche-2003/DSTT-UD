{
  "nbformat": 4,
  "nbformat_minor": 0,
  "metadata": {
    "colab": {
      "private_outputs": true,
      "provenance": [],
      "collapsed_sections": [],
      "authorship_tag": "ABX9TyO0tEhVjqFSL85G1z6PyRT/",
      "include_colab_link": true
    },
    "kernelspec": {
      "name": "python3",
      "display_name": "Python 3"
    },
    "language_info": {
      "name": "python"
    }
  },
  "cells": [
    {
      "cell_type": "markdown",
      "metadata": {
        "id": "view-in-github",
        "colab_type": "text"
      },
      "source": [
        "<a href=\"https://colab.research.google.com/github/gnasche-2003/DSTT-UD/blob/main/Chuong_6.ipynb\" target=\"_parent\"><img src=\"https://colab.research.google.com/assets/colab-badge.svg\" alt=\"Open In Colab\"/></a>"
      ]
    },
    {
      "cell_type": "markdown",
      "source": [
        "# HoVaTen: Pham Quoc Chuong\n",
        "# MaSV: 2174802010113\n",
        "# Chuong 6: CÁC KHÁI NIỆM: KHÔNG GIAN VECTOR,\n",
        "# TÍCH TRONG VÀ TRỊ RIÊNG, VECTOR RIÊNG "
      ],
      "metadata": {
        "id": "dNwvi-qWUa12"
      }
    },
    {
      "cell_type": "code",
      "source": [
        "#1. Khái niệm về không gian vector và tích trong\n",
        "#1.1.Tóm tắt lý thuyết\n",
        "#1.2.Tích vô hướng, trực giao và ứng dụng"
      ],
      "metadata": {
        "id": "9wbGjAMyUn2W"
      },
      "execution_count": null,
      "outputs": []
    },
    {
      "cell_type": "code",
      "source": [
        "import numpy as np\n",
        "a = np.array([1,2,3])\n",
        "b = np.array([4,5,6])\n",
        "tich = np.inner(a, b) # tich vo huong\n",
        "tich"
      ],
      "metadata": {
        "id": "V5vY1i1dU47M"
      },
      "execution_count": null,
      "outputs": []
    },
    {
      "cell_type": "code",
      "source": [
        "np.dot(a,b) #kết quả có giống như np.inner(a,b)?"
      ],
      "metadata": {
        "id": "Q_LpX4lXVFD0"
      },
      "execution_count": null,
      "outputs": []
    },
    {
      "cell_type": "code",
      "source": [
        "#Độ dài/chuẩn của vector: "
      ],
      "metadata": {
        "id": "NfUSwlhhVHAY"
      },
      "execution_count": null,
      "outputs": []
    },
    {
      "cell_type": "code",
      "source": [
        "#Chuẩn 2:\n",
        "import numpy as np\n",
        "a = np.array([1,2,-3])\n",
        "np.linalg.norm(a) # hoặc >>> np.linalg.norm(a, 2)"
      ],
      "metadata": {
        "id": "xkIiLrRrVOwl"
      },
      "execution_count": null,
      "outputs": []
    },
    {
      "cell_type": "code",
      "source": [
        "#Chuẩn 1:\n",
        "a = np.array([1,2,-3])\n",
        "np.linalg.norm(a,1)"
      ],
      "metadata": {
        "id": "vL3O9-2FVYkK"
      },
      "execution_count": null,
      "outputs": []
    },
    {
      "cell_type": "code",
      "source": [
        "#2. Đọc thêm: Tổ hợp tuyến tính\n",
        "#Bài toán Thiết kế ô tô hoặc chất hàng vào container/tàu thủy"
      ],
      "metadata": {
        "id": "e2BpBEosVxVO"
      },
      "execution_count": null,
      "outputs": []
    },
    {
      "cell_type": "code",
      "source": [
        "#3.2.Trị riêng và vector riêng của ma trận\n",
        "#Ví dụ:"
      ],
      "metadata": {
        "id": "GGSzsIKfV4IC"
      },
      "execution_count": null,
      "outputs": []
    },
    {
      "cell_type": "code",
      "source": [
        "from ast import Lambda\n",
        "import sympy\n",
        "x, y, Lambda = sympy.symbols('x y Lambda')\n",
        "I = sympy.eye(2)\n",
        "A = sympy.Matrix([ [2,3], [3, -6] ])\n",
        "phuongtrinh = sympy.Eq(sympy.det(Lambda*I-A), 0)\n",
        "nghiem = sympy.solve(phuongtrinh)\n",
        "nghiem"
      ],
      "metadata": {
        "id": "3wFC1XlrWTP4"
      },
      "execution_count": null,
      "outputs": []
    },
    {
      "cell_type": "code",
      "source": [
        "print([sympy.N(phantu,4) for phantu in nghiem])"
      ],
      "metadata": {
        "id": "ZFl_MFXRXKJx"
      },
      "execution_count": null,
      "outputs": []
    },
    {
      "cell_type": "code",
      "source": [
        "print (sympy.pretty(nghiem)) "
      ],
      "metadata": {
        "id": "TD8ia8-JW2uZ"
      },
      "execution_count": null,
      "outputs": []
    },
    {
      "cell_type": "code",
      "source": [
        "#tính toán vector riêng của ma trận: "
      ],
      "metadata": {
        "id": "OVl8SEnkaLmQ"
      },
      "execution_count": null,
      "outputs": []
    },
    {
      "cell_type": "code",
      "source": [
        "import numpy as np\n",
        "from numpy import linalg as la\n",
        "v = la.eig(np.array([[2,3], [3, -6]]))\n",
        "v"
      ],
      "metadata": {
        "id": "X2B9LC8-aPYa"
      },
      "execution_count": null,
      "outputs": []
    },
    {
      "cell_type": "code",
      "source": [
        "#3.3.Ứng dụng của trị riêng và vector riêng "
      ],
      "metadata": {
        "id": "rLAmGTuoX7ad"
      },
      "execution_count": null,
      "outputs": []
    },
    {
      "cell_type": "code",
      "source": [
        "import numpy as np\n",
        "A = np.array([[2,3],[3,-6]])\n",
        "D = np.array([[-7,0],[0,3]])\n",
        "P = np.array([[-1.0/3, 3],[1,1]])\n",
        "from numpy import linalg\n",
        "from numpy import linalg as LA\n",
        "P1 = LA.inv(P) # tính giá trị nghịch đảo của P"
      ],
      "metadata": {
        "id": "VnCsvGtLX_Up"
      },
      "execution_count": null,
      "outputs": []
    },
    {
      "cell_type": "code",
      "source": [
        "P1"
      ],
      "metadata": {
        "id": "yQbBgjy9YF5X"
      },
      "execution_count": null,
      "outputs": []
    },
    {
      "cell_type": "code",
      "source": [
        "A.dot(P)"
      ],
      "metadata": {
        "id": "aj9-S4MrYHkt"
      },
      "execution_count": null,
      "outputs": []
    },
    {
      "cell_type": "code",
      "source": [
        "P.dot(D)"
      ],
      "metadata": {
        "id": "z5K5XRLYYLWL"
      },
      "execution_count": null,
      "outputs": []
    },
    {
      "cell_type": "code",
      "source": [
        "P@(D**1000)@P1"
      ],
      "metadata": {
        "id": "waRZX-HtYNEG"
      },
      "execution_count": null,
      "outputs": []
    },
    {
      "cell_type": "code",
      "source": [
        "#Lưu ý: thử tính các giá trị lũy thừa của ma trận đường chéo: \n",
        "D**2"
      ],
      "metadata": {
        "id": "gONQpnYlYTK9"
      },
      "execution_count": null,
      "outputs": []
    }
  ]
}