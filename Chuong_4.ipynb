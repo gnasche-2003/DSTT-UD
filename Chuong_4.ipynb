{
  "nbformat": 4,
  "nbformat_minor": 0,
  "metadata": {
    "colab": {
      "private_outputs": true,
      "provenance": [],
      "collapsed_sections": [],
      "authorship_tag": "ABX9TyPJO6/hea6QYtamZbwUkCDJ",
      "include_colab_link": true
    },
    "kernelspec": {
      "name": "python3",
      "display_name": "Python 3"
    },
    "language_info": {
      "name": "python"
    }
  },
  "cells": [
    {
      "cell_type": "markdown",
      "metadata": {
        "id": "view-in-github",
        "colab_type": "text"
      },
      "source": [
        "<a href=\"https://colab.research.google.com/github/gnasche-2003/DSTT-UD/blob/main/Chuong_4.ipynb\" target=\"_parent\"><img src=\"https://colab.research.google.com/assets/colab-badge.svg\" alt=\"Open In Colab\"/></a>"
      ]
    },
    {
      "cell_type": "markdown",
      "source": [
        "# Họ và tên: Phạm Quốc Chương\n",
        "# MASV: 2174802010113\n",
        "# CHƯƠNG 4: CƠ BẢN VỀ ĐỊNH THỨC"
      ],
      "metadata": {
        "id": "Ru1efuPrGCKm"
      }
    },
    {
      "cell_type": "markdown",
      "source": [
        "CHƯƠNG 4: CƠ BẢN VỀ ĐỊNH THỨC"
      ],
      "metadata": {
        "id": "ST3TuiYtGZJg"
      }
    },
    {
      "cell_type": "markdown",
      "source": [
        "Quy tắc Cramer"
      ],
      "metadata": {
        "id": "xfdh4NVQIBE7"
      }
    },
    {
      "cell_type": "markdown",
      "source": [
        "Hệ hai phương trình tuyến tính bậc 1: "
      ],
      "metadata": {
        "id": "bCuTBOYAIH-K"
      }
    },
    {
      "cell_type": "markdown",
      "source": [
        "Bai 1"
      ],
      "metadata": {
        "id": "133BpTVNJomI"
      }
    },
    {
      "cell_type": "code",
      "source": [
        "import numpy as np"
      ],
      "metadata": {
        "id": "DWRPPlAJIEnz"
      },
      "execution_count": null,
      "outputs": []
    },
    {
      "cell_type": "code",
      "source": [
        "A = np.array([[4,-2],[3,-5]])\n",
        "A1 = np.array([[10,-2],[11,-5]])\n",
        "A2 = np.array([[4,10],[3,11]])"
      ],
      "metadata": {
        "id": "Icx2RjA4H-c5"
      },
      "execution_count": null,
      "outputs": []
    },
    {
      "cell_type": "code",
      "source": [
        "from scipy import linalg"
      ],
      "metadata": {
        "id": "NjrCQrXKIvoM"
      },
      "execution_count": null,
      "outputs": []
    },
    {
      "cell_type": "code",
      "source": [
        "detA = linalg.det(A)\n",
        "detA1 = linalg.det(A1)\n",
        "detA2 = linalg.det(A2)\n",
        "print(detA, detA1, detA2)"
      ],
      "metadata": {
        "id": "X5LlABc1IyFD"
      },
      "execution_count": null,
      "outputs": []
    },
    {
      "cell_type": "code",
      "source": [
        "if (detA != 0):\n",
        "   x1 = detA1 / detA\n",
        "   x2 = detA2 / detA\n",
        "   print (\"Hai nghiệm của phương trình là: \",x1, x2)"
      ],
      "metadata": {
        "id": "b6YjFZKHJC4Y"
      },
      "execution_count": null,
      "outputs": []
    },
    {
      "cell_type": "markdown",
      "source": [
        "Bai 2:"
      ],
      "metadata": {
        "id": "pE91EdVIJsZh"
      }
    },
    {
      "cell_type": "code",
      "source": [
        "import numpy as np"
      ],
      "metadata": {
        "id": "Deez9xL7JuEi"
      },
      "execution_count": null,
      "outputs": []
    },
    {
      "cell_type": "code",
      "source": [
        "B = np.array([[-1,2,-3],[2,-2,1],[3,-4,4]])\n",
        "B1 = np.array([[1,2,-3],[3,-2,1],[2,-4,4]])\n",
        "B2 = np.array([[-1,1,-3],[2,3,1],[3,2,4]])\n",
        "B3 = np.array([[-1,2,1],[2,-2,3],[3,-4,2]])"
      ],
      "metadata": {
        "id": "q_HoHrXjJyL2"
      },
      "execution_count": null,
      "outputs": []
    },
    {
      "cell_type": "code",
      "source": [
        "from scipy import linalg"
      ],
      "metadata": {
        "id": "HL6YfkFkLXqF"
      },
      "execution_count": null,
      "outputs": []
    },
    {
      "cell_type": "code",
      "source": [
        "detB = linalg.det(B)\n",
        "detB1 = linalg.det(B1)\n",
        "detB2 = linalg.det(B2)\n",
        "detB3 = linalg.det(B3)\n",
        "print(detB,detB1,detB2,detB3)"
      ],
      "metadata": {
        "id": "fH4Zx-zKLpdE"
      },
      "execution_count": null,
      "outputs": []
    },
    {
      "cell_type": "code",
      "source": [
        "if  (detB != 0):\n",
        "    x1 = detB1 / detB\n",
        "    x2 = detB2 / detB\n",
        "    x3 = detB3 / detB\n",
        "    print(\"Ba nghiệm của phương trình là:\",x1, x2, x3)"
      ],
      "metadata": {
        "id": "yDA6e_-gMIE4"
      },
      "execution_count": null,
      "outputs": []
    },
    {
      "cell_type": "markdown",
      "source": [
        "Bai 3:"
      ],
      "metadata": {
        "id": "rdmLrxPDPTfm"
      }
    },
    {
      "cell_type": "code",
      "source": [
        "import numpy as np\n",
        "C = np.array([[-1,2,-3],[2,-2,1],[2,-4,4]])\n",
        "C1 = np.array([[-2,2,-3],[1,-2,1],[2,-4,4]])\n",
        "C2 = np.array([[-1,-2,-3],[2,1,1],[2,2,4]])\n",
        "C3 = np.array([[-1,2,-2],[2,-2,1],[2,-4,2]])"
      ],
      "metadata": {
        "id": "wSRSd4mYPT4U"
      },
      "execution_count": null,
      "outputs": []
    },
    {
      "cell_type": "code",
      "source": [
        "from scipy import linalg"
      ],
      "metadata": {
        "id": "VSvWXl6EQIgb"
      },
      "execution_count": null,
      "outputs": []
    },
    {
      "cell_type": "code",
      "source": [
        "detC = linalg.det(C)\n",
        "detC1 = linalg.det(C1)\n",
        "detC2 = linalg.det(C2)\n",
        "detC3 = linalg.det(C3)\n",
        "print(detC,detC1,detC2,detC3)"
      ],
      "metadata": {
        "id": "qYxiRF1zQM2Q"
      },
      "execution_count": null,
      "outputs": []
    },
    {
      "cell_type": "code",
      "source": [
        "if (detC != 0):\n",
        "   x1 = detC1 / detC\n",
        "   x2 = detC2 / detC\n",
        "   x3 = detC3 / detC\n",
        "   print(\"Ba nghiệm của phương trình là:\",x1, x2, x3)"
      ],
      "metadata": {
        "id": "k47rxZB6QjCa"
      },
      "execution_count": null,
      "outputs": []
    },
    {
      "cell_type": "markdown",
      "source": [
        "Su dung ham tinhtoan_dinhthuc()"
      ],
      "metadata": {
        "id": "eFKTjW2CT8VA"
      }
    },
    {
      "cell_type": "code",
      "source": [
        "import numpy as np\n",
        "from itertools import permutations"
      ],
      "metadata": {
        "id": "yabWcPMmRcrm"
      },
      "execution_count": null,
      "outputs": []
    },
    {
      "cell_type": "code",
      "source": [
        "def sgn_by_def(sigma):\n",
        "    ket_qua = 1.0\n",
        "    chieudai = len(sigma)\n",
        "    X = np.array(range(1,chieudai+1))\n",
        "    for i in range(chieudai-1):\n",
        "            for j in range(i+1,len(X)):\n",
        "                    ket_qua = ket_qua * ((X[i] - X[j]) / (sigma[i] - sigma[j])) \n",
        "    return int(ket_qua)"
      ],
      "metadata": {
        "id": "7ySECzJPVpdq"
      },
      "execution_count": null,
      "outputs": []
    },
    {
      "cell_type": "code",
      "source": [
        "def tinhtoan_dinhthuc(A): \n",
        "    X = []\n",
        "    import math # bổ sung để sử dụng sqrt\n",
        "    n = int(math.sqrt (A.size)) # <-- với ma trận vuông, kích thuốc là căn số\n",
        "    for i in range(1, n + 1): \n",
        "          X.append (i) \n",
        "    Sn = list(permutations(X)) \n",
        "    dinhthuc = 0 # ban đầu giá trị định thức là 0 \n",
        "    for sn in Sn: \n",
        "            sigma = np.array([1]) \n",
        "            sigma.resize([n]) \n",
        "            product = 1  #đặt giá trị cho tích ban đầu là 1 \n",
        "            for i in range(1, n + 1): \n",
        "                    sigma[sn.index(i)] = i \n",
        "                    product = product * A[i-1][sn.index(i)] # Lưu ý chi so \n",
        "                    #print (A [i-1] [sn.index (i))) \n",
        "            dau = sgn_by_def(sigma) \n",
        "            if (dau != 1): # không xét trường hợp dầu 1 \n",
        "                 product = product * (-1)  # khi dầu - 1 thì nhân với 1 \n",
        "            dinhthuc = dinhthuc + product \n",
        "    return dinhthuc"
      ],
      "metadata": {
        "id": "Ff3emnb1YlOG"
      },
      "execution_count": null,
      "outputs": []
    },
    {
      "cell_type": "markdown",
      "source": [
        "bai 1: cach_2"
      ],
      "metadata": {
        "id": "r2n_sXcueBOF"
      }
    },
    {
      "cell_type": "code",
      "source": [
        "G = np.array([[4,-2],[3,-5]])\n",
        "G1 = np.array([[10,-2],[11,-5]])\n",
        "G2 = np.array([[4,10],[3,11]])\n",
        "print(\"detG= \",tinhtoan_dinhthuc(G))\n",
        "print(\"detG1= \",tinhtoan_dinhthuc(G1))\n",
        "print(\"detG2= \",tinhtoan_dinhthuc(G2))"
      ],
      "metadata": {
        "id": "R1EDXxHKaXwe"
      },
      "execution_count": null,
      "outputs": []
    },
    {
      "cell_type": "markdown",
      "source": [
        "Tinh nghiem x1, x2 = ?"
      ],
      "metadata": {
        "id": "J8HfzwfDejbd"
      }
    },
    {
      "cell_type": "code",
      "source": [
        "if (tinhtoan_dinhthuc(A) != 0):\n",
        "    x1 = (tinhtoan_dinhthuc(G1) / tinhtoan_dinhthuc(G))\n",
        "    x2 = (tinhtoan_dinhthuc(G2) / tinhtoan_dinhthuc(G))\n",
        "    print(\"Hai nghiệm của phương trình là: \",x1, x2)"
      ],
      "metadata": {
        "id": "fSvi1OPNaqdq"
      },
      "execution_count": null,
      "outputs": []
    },
    {
      "cell_type": "markdown",
      "source": [
        "bai 2: cach_2"
      ],
      "metadata": {
        "id": "4bW_ehrMe_Z_"
      }
    },
    {
      "cell_type": "code",
      "source": [
        "B = np.array([[-1,2,-3],[2,-2,1],[3,-4,4]])\n",
        "B1 = np.array([[1,2,-3],[3,-2,1],[2,-4,4]])\n",
        "B2 = np.array([[-1,1,-3],[2,3,1],[3,2,4]])\n",
        "B3 = np.array([[-1,2,1],[2,-2,3],[3,-4,2]])\n",
        "print(\"detB= \",tinhtoan_dinhthuc(B))\n",
        "print(\"detB1= \",tinhtoan_dinhthuc(B1))\n",
        "print(\"detB2= \",tinhtoan_dinhthuc(B2))\n",
        "print(\"detB3= \",tinhtoan_dinhthuc(B3))"
      ],
      "metadata": {
        "id": "NGxEH8IgfDFB"
      },
      "execution_count": null,
      "outputs": []
    },
    {
      "cell_type": "code",
      "source": [
        "if (tinhtoan_dinhthuc(A) != 0):\n",
        "    x1 = (tinhtoan_dinhthuc(B1) / tinhtoan_dinhthuc(B))\n",
        "    x2 = (tinhtoan_dinhthuc(B2) / tinhtoan_dinhthuc(B))\n",
        "    x3 = (tinhtoan_dinhthuc(B3) / tinhtoan_dinhthuc(B))\n",
        "    print(\"Ba nghiệm của phương trình là: \",x1, x2, x3)"
      ],
      "metadata": {
        "id": "tbW-70KFfXby"
      },
      "execution_count": null,
      "outputs": []
    },
    {
      "cell_type": "markdown",
      "source": [
        "Do det = 0 nen phuong trinh vo nghiem"
      ],
      "metadata": {
        "id": "vYWykb35fzxL"
      }
    },
    {
      "cell_type": "markdown",
      "source": [
        "Bai 3: cach 2"
      ],
      "metadata": {
        "id": "c1SWQXIFf4_S"
      }
    },
    {
      "cell_type": "code",
      "source": [
        "C = np.array([[-1,2,-3],[2,-2,1],[2,-4,4]])\n",
        "C1 = np.array([[-2,2,-3],[1,-2,1],[2,-4,4]])\n",
        "C2 = np.array([[-1,-2,-3],[2,1,1],[2,2,4]])\n",
        "C3 = np.array([[-1,2,-2],[2,-2,1],[2,-4,2]])\n",
        "print(\"detC= \",tinhtoan_dinhthuc(C))\n",
        "print(\"detC1= \",tinhtoan_dinhthuc(C1))\n",
        "print(\"detC2= \",tinhtoan_dinhthuc(C2))\n",
        "print(\"detC3= \",tinhtoan_dinhthuc(C3))"
      ],
      "metadata": {
        "id": "5klE7lMff8Hg"
      },
      "execution_count": null,
      "outputs": []
    },
    {
      "cell_type": "code",
      "source": [
        "if (tinhtoan_dinhthuc(A) != 0):\n",
        "    x1 = (tinhtoan_dinhthuc(C1) / tinhtoan_dinhthuc(C))\n",
        "    x2 = (tinhtoan_dinhthuc(C2) / tinhtoan_dinhthuc(C))\n",
        "    x3 = (tinhtoan_dinhthuc(C3) / tinhtoan_dinhthuc(C))\n",
        "    print(\"Ba nghiệm của phương trình là: \",x1, x2, x3)"
      ],
      "metadata": {
        "id": "tvAfxwYqgQe-"
      },
      "execution_count": null,
      "outputs": []
    }
  ]
}