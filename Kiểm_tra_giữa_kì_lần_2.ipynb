{
  "nbformat": 4,
  "nbformat_minor": 0,
  "metadata": {
    "colab": {
      "private_outputs": true,
      "provenance": [],
      "collapsed_sections": [],
      "authorship_tag": "ABX9TyN88geubycUnRFVi7DNa0A6",
      "include_colab_link": true
    },
    "kernelspec": {
      "name": "python3",
      "display_name": "Python 3"
    },
    "language_info": {
      "name": "python"
    }
  },
  "cells": [
    {
      "cell_type": "markdown",
      "metadata": {
        "id": "view-in-github",
        "colab_type": "text"
      },
      "source": [
        "<a href=\"https://colab.research.google.com/github/gnasche-2003/DSTT-UD/blob/main/Ki%E1%BB%83m_tra_gi%E1%BB%AFa_k%C3%AC_l%E1%BA%A7n_2.ipynb\" target=\"_parent\"><img src=\"https://colab.research.google.com/assets/colab-badge.svg\" alt=\"Open In Colab\"/></a>"
      ]
    },
    {
      "cell_type": "markdown",
      "source": [
        "# HoVaTen: Phạm Quốc Chương\n",
        "# MaSV: 2174802010113\n",
        "# Kiểm tra giữa kì lần 2"
      ],
      "metadata": {
        "id": "zExzCTe_hDXl"
      }
    },
    {
      "cell_type": "code",
      "execution_count": null,
      "metadata": {
        "id": "lvfYf1Evc6Dp"
      },
      "outputs": [],
      "source": [
        "#Cau 1: Tính tích trong RR"
      ]
    },
    {
      "cell_type": "code",
      "source": [
        "import numpy as np                  #Khai báo thư viện numpy\n",
        "a = np.array([5,4,9])               #Khai báo ma trân a          \n",
        "b = np.array([26,36,12])            #Khai báo ma trân a\n",
        "tich = np.inner(a, b)               #tich vo huong\n",
        "tich                                # Kết quả tích vô hướng : 382"
      ],
      "metadata": {
        "id": "KZh8Typpdpy_"
      },
      "execution_count": null,
      "outputs": []
    },
    {
      "cell_type": "code",
      "source": [
        "#Cau 2: Tính trị riêng bằng gói thư viện sympy"
      ],
      "metadata": {
        "id": "UBjxI_9reRIl"
      },
      "execution_count": null,
      "outputs": []
    },
    {
      "cell_type": "code",
      "source": [
        "from ast import Lambda                  # Khai báo thư viện\n",
        "import sympy                            # Khai báo thư viện\n",
        "x, y, Lambda = sympy.symbols('x y Lambda')      #Khai báo các biến x, y, Lambda\n",
        "I = sympy.eye(2)                                  \n",
        "A = sympy.Matrix([ [3, 6], [4, -7] ])              #Khai báo ma trận\n",
        "phuongtrinh = sympy.Eq(sympy.det(Lambda*I-A), 0)   #Giải phương trình bằng hệ tính định thức: det(A-Lambda*I) = 0\n",
        "nghiem = sympy.solve(phuongtrinh)   # Giải nghiệm phương trình bằng lệnh solve\n",
        "nghiem"
      ],
      "metadata": {
        "id": "fAyd-YZjeX_A"
      },
      "execution_count": null,
      "outputs": []
    },
    {
      "cell_type": "code",
      "source": [
        "# Phương trình có 2 trị riêng: -9, 5"
      ],
      "metadata": {
        "id": "P1aoJNdujIGc"
      },
      "execution_count": null,
      "outputs": []
    },
    {
      "cell_type": "code",
      "source": [
        "#Cau 3: Tính sai số và phương trình tuyến tính bậc 1 "
      ],
      "metadata": {
        "id": "shRPPNGdepCQ"
      },
      "execution_count": null,
      "outputs": []
    },
    {
      "cell_type": "code",
      "source": [
        "import numpy as np                    #Khai báo thư viện\n",
        "from scipy import linalg              #Khai báo thư viện\n",
        "X = np.array([ [1, 1], [1, 2], [1, 3], [1, 4], [1, 5] ])   # Khai báo ma trận X\n",
        "X"
      ],
      "metadata": {
        "id": "qX5KjkCfey5t"
      },
      "execution_count": null,
      "outputs": []
    },
    {
      "cell_type": "code",
      "source": [
        "Y = np.array([ [1.2], [2], [3], [4.3], [4] ])   # Khai báo ma trận YY\n",
        "Y"
      ],
      "metadata": {
        "id": "P9m_SxFEflsP"
      },
      "execution_count": null,
      "outputs": []
    },
    {
      "cell_type": "code",
      "source": [
        "XT = X.T          # Tính ma trận chuyển vị của ma trận XX\n",
        "XT"
      ],
      "metadata": {
        "id": "IwnUWkpEfu59"
      },
      "execution_count": null,
      "outputs": []
    },
    {
      "cell_type": "code",
      "source": [
        "A1 = linalg.inv(XT.dot(X))   #Tính ma trận khả nghịch\n",
        "A1"
      ],
      "metadata": {
        "id": "hv02NinqfvRi"
      },
      "execution_count": null,
      "outputs": []
    },
    {
      "cell_type": "code",
      "source": [
        "A2 = XT.dot(Y)    \n",
        "A2"
      ],
      "metadata": {
        "id": "1p3JnRM9f2F4"
      },
      "execution_count": null,
      "outputs": []
    },
    {
      "cell_type": "code",
      "source": [
        "A = A1.dot(A2)\n",
        "print(\"Phương trình tuyến tính có 2 nghiệm: \", A) "
      ],
      "metadata": {
        "id": "CkeCPA1Of5JV"
      },
      "execution_count": null,
      "outputs": []
    },
    {
      "cell_type": "code",
      "source": [
        "# Phương trình tuyến tính bậc 1 có dạng f(x) = a1 + a2x\n",
        "# f(x) = 0.53 + 0.79x"
      ],
      "metadata": {
        "id": "6Kby7-ghkC_1"
      },
      "execution_count": null,
      "outputs": []
    },
    {
      "cell_type": "code",
      "source": [
        "E = Y - (X.dot(A)) \n",
        "E"
      ],
      "metadata": {
        "id": "5f0WsQpwf5f2"
      },
      "execution_count": null,
      "outputs": []
    },
    {
      "cell_type": "code",
      "source": [
        "ET = E.T\n",
        "ET"
      ],
      "metadata": {
        "id": "BwP6dIuugOIB"
      },
      "execution_count": null,
      "outputs": []
    },
    {
      "cell_type": "code",
      "source": [
        "e = ET.dot(E) \n",
        "e"
      ],
      "metadata": {
        "id": "6ZrhwbLqgP0S"
      },
      "execution_count": null,
      "outputs": []
    },
    {
      "cell_type": "code",
      "source": [
        "# Sai số của bài toán: 0.639"
      ],
      "metadata": {
        "id": "Cdj1iFHakU51"
      },
      "execution_count": null,
      "outputs": []
    }
  ]
}