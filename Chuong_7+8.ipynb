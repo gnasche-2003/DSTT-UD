{
  "nbformat": 4,
  "nbformat_minor": 0,
  "metadata": {
    "colab": {
      "private_outputs": true,
      "provenance": [],
      "authorship_tag": "ABX9TyNttXHzrAi2B5Gu8Q7rIcKA",
      "include_colab_link": true
    },
    "kernelspec": {
      "name": "python3",
      "display_name": "Python 3"
    },
    "language_info": {
      "name": "python"
    }
  },
  "cells": [
    {
      "cell_type": "markdown",
      "metadata": {
        "id": "view-in-github",
        "colab_type": "text"
      },
      "source": [
        "<a href=\"https://colab.research.google.com/github/gnasche-2003/DSTT-UD/blob/main/Chuong_7%2B8.ipynb\" target=\"_parent\"><img src=\"https://colab.research.google.com/assets/colab-badge.svg\" alt=\"Open In Colab\"/></a>"
      ]
    },
    {
      "cell_type": "markdown",
      "source": [
        "# HoVaTen: Pham Quoc Chuong\n",
        "# MaSV: 2174802010113\n",
        "# Chuong 7 + 8: KHÔNG GIAN VECTOR VÀ ÁNH XẠ TUYẾN TÍNH"
      ],
      "metadata": {
        "id": "ypwcHFr9VwZW"
      }
    },
    {
      "cell_type": "code",
      "execution_count": null,
      "metadata": {
        "id": "tXZyt0-PVcrL"
      },
      "outputs": [],
      "source": [
        "#1. Giới thiệu một số ứng dụng của tích vector (dot product)  -p.3/chuong 7\n",
        "import numpy as np\n",
        "signals = np.array([[1,2],[3,4],[10,0]])\n",
        "sample = np.array([3,-1])\n",
        "np.inner(signals, sample)"
      ]
    },
    {
      "cell_type": "code",
      "source": [
        "#1.1.Ứng dụng 1 – Nguyên lý tìm nốt nhạc trong chuỗi âm thanh (Audio search)  -p.3/chuong 7\n",
        "import numpy as np\n",
        "A = np.array([0,0,-1,2,3,-1,0,1,-1,-1])\n",
        "search_vector = np.array([0,1,-1])\n",
        "len(A), len(search_vector)"
      ],
      "metadata": {
        "id": "UViZA2QbXvym"
      },
      "execution_count": null,
      "outputs": []
    },
    {
      "cell_type": "code",
      "source": [
        "B = np.array([1])\n",
        "B = np.resize(B, (len(A)-len(search_vector)+1, len(search_vector)))\n",
        "B = np.asmatrix(B)\n",
        "for i in range(len(A)-len(search_vector)+1): # so dong\n",
        "    for j in range(len(search_vector)): # so cot\n",
        "        B[i,j] = A[i+j]\n",
        "        print(B[i,j])"
      ],
      "metadata": {
        "id": "SQMm2oZrYW_z"
      },
      "execution_count": null,
      "outputs": []
    },
    {
      "cell_type": "code",
      "source": [
        "C = np.inner(B, search_vector)\n",
        "for i in range(len(A)-len(search_vector)+1): # tìm vị trí của vector vừa tìm thấy\n",
        "    if ( C[0,i] == np.inner(search_vector, search_vector) ):\n",
        "        print (i, B[i]) "
      ],
      "metadata": {
        "id": "X6A5G4JWZG2A"
      },
      "execution_count": null,
      "outputs": []
    },
    {
      "cell_type": "code",
      "source": [
        "#1.2.Ứng dụng 2 – Tạo ảnh mẫu và làm mờ ảnh     -p.5/Chuong 7\n",
        "from PIL import Image\n",
        "img = Image.open(\"C:/traidat.png\")\n",
        "img.height # xem chiều cao của ảnh\n",
        "img.width  # chiều rộng của ảnh\n",
        "img.mode   # xem kiểu ảnh. Thường là 'RGBA', với kiểu ảnh có chữ ‘P’ chúng ta phải thêm một lệnh xử lý như sau:\n",
        "img = img.convert(\"RGB\") # convert it to RGB (để chuyển về dạng RGB)\n",
        "new_width = int(img.width / 2) # giảm ½ chiều rộng\n",
        "new_height = int(img.height / 2) # giảm ½ chiều cao\n",
        "new_img = img.resize((new_width, new_height),Image.ANTIALIAS)\n",
        "new_img.save('C:/traidat_small.png') "
      ],
      "metadata": {
        "id": "lZBPuTt7Zo5z"
      },
      "execution_count": null,
      "outputs": []
    },
    {
      "cell_type": "code",
      "source": [
        "#làm mờ ảnh\n",
        "from PIL import Image, ImageDraw\n",
        "input_image = Image.open('C:/traidat.png')\n",
        "input_pixels = input_image.load() # đọc các pixel(điểm ảnh). GV giải thích khái niệm pixel\n",
        "box_kernel = [[1 / 9, 1 / 9, 1 / 9],\n",
        " [1 / 9, 1 / 9, 1 / 9],\n",
        " [1 / 9, 1 / 9, 1 / 9]]\n",
        "kernel = box_kernel\n",
        "offset = len(kernel) // 2\n",
        "output_image = Image.new(\"RGB\", input_image.size)\n",
        "draw = ImageDraw.Draw(output_image) \n",
        "\n",
        "for x in range(offset, input_image.width - offset):\n",
        "    for y in range(offset, input_image.height - offset):\n",
        "        acc = [0,0,0]\n",
        "        for a in range(len(kernel)):\n",
        "            for b in range(len(kernel)):\n",
        "                  xn = x + a - offset\n",
        "                  yn = y + b - offset\n",
        "                  pixel = input_pixels[xn, yn]\n",
        "                  acc[0] += pixel[0] * kernel[a][b]\n",
        "                  acc[1] += pixel[1] * kernel[a][b]\n",
        "                  acc[2] += pixel[2] * kernel[a][b]\n",
        "        draw.point((x, y), (int(acc[0]), int(acc[1]), int(acc[2])))\n",
        "\n",
        "output_image.save('C:/traidat_lammo.png')"
      ],
      "metadata": {
        "id": "J07Bc5FidyiO"
      },
      "execution_count": null,
      "outputs": []
    },
    {
      "cell_type": "code",
      "source": [
        "#2.1.Đơn giản hóa thuật toán Pagerank   -p.11/Chuong 7\n",
        "import numpy as np\n",
        "A = np.array([[0,0,1.0/2, 1.0/2],\n",
        "              [1.0/3,0,0,0],\n",
        "              [1.0/3,0,0,1.0/2],\n",
        "              [1.0/3,1.0,1.0/2,0]])\n",
        "x = np.array([1,1,1,1]) "
      ],
      "metadata": {
        "id": "Lnd9rN_BeLdM"
      },
      "execution_count": null,
      "outputs": []
    },
    {
      "cell_type": "code",
      "source": [
        "#Thực hành: Sinh viên hãy thực hiện tích của ma trận A với vector x như sau:\n",
        "x = np.dot(A,x)\n",
        "print(x)"
      ],
      "metadata": {
        "id": "Gx5O8D3vhkql"
      },
      "execution_count": null,
      "outputs": []
    },
    {
      "cell_type": "code",
      "source": [
        "x = np.array([1.0, 1.0, 1.0, 1.0])\n",
        "for i in range(10):\n",
        "    x = np.dot(A, x)\n",
        "    print (i+1, x)"
      ],
      "metadata": {
        "id": "DfQV-9drhth4"
      },
      "execution_count": null,
      "outputs": []
    },
    {
      "cell_type": "code",
      "source": [
        "#2.2.Bài toán ứng dụng: Ma trận biến đổi (ảnh/font chữ/…)\n",
        "#a. Biến đổi tịnh tiến. Cụ thể: từ (x, y) thành (x + a, y + b), nghĩa là ở dạng ma trận:\n",
        "import numpy as np\n",
        "A = np.array([[0,0,3,3,1,1,2,2,1,1],[0,5,5,4,4,3,3,2,2,0]])\n",
        "A"
      ],
      "metadata": {
        "id": "78DwgSsdiphL"
      },
      "execution_count": null,
      "outputs": []
    },
    {
      "cell_type": "code",
      "source": [
        "vecdelta = np.array([4,2])\n",
        "A_caua = (A.T + vecdelta).T\n",
        "print(\"Tịnh tiến vector:\")\n",
        "print(A_caua)"
      ],
      "metadata": {
        "id": "IwzZjaFIjth5"
      },
      "execution_count": null,
      "outputs": []
    },
    {
      "cell_type": "code",
      "source": [
        "#b. Biến đổi tịnh tiến và co giãn. Cụ thể từ (x, y) thành (kx + a, ly + b), k, l > 0. \n",
        "#Nghĩa là ở dạng ma trận:"
      ],
      "metadata": {
        "id": "mVncRuKnkb7h"
      },
      "execution_count": null,
      "outputs": []
    },
    {
      "cell_type": "code",
      "source": [
        "import numpy as np\n",
        "print(\"Vector trước khi tịnh tiến:\")\n",
        "B = np.array([[0,0,3,3,1,1,2,2,1,1],[0,5,5,4,4,3,3,2,2,0]])\n",
        "B"
      ],
      "metadata": {
        "id": "mSBdUq2lknKr"
      },
      "execution_count": null,
      "outputs": []
    },
    {
      "cell_type": "code",
      "source": [
        "vecdelta = np.array([4,-2])\n",
        "matran_biendoi = np.array([[1.0, 0.0],\n",
        "                          [0.0, 2.0]])\n",
        "B_caub = (B.T @ matran_biendoi + vecdelta).T\n",
        "print(\"Tịnh tiến vector:\")\n",
        "print (B_caub) "
      ],
      "metadata": {
        "id": "wpZ2RX-mk7BN"
      },
      "execution_count": null,
      "outputs": []
    },
    {
      "cell_type": "code",
      "source": [
        "#c.Biến đổi tịnh tiến và đối xứng theo trục y. Cụ thể từ (x, y) thành (−x + a, y + b). Nghĩa\n",
        "#là dạng ma trận tương ứng:\n",
        "import numpy as np\n",
        "print(\"Vector trước khi tịnh tiến:\")\n",
        "C = np.array([[0,0,3,3,1,1,2,2,1,1],[0,5,5,4,4,3,3,2,2,0]])\n",
        "C"
      ],
      "metadata": {
        "id": "nxoRN5iZlK6T"
      },
      "execution_count": null,
      "outputs": []
    },
    {
      "cell_type": "code",
      "source": [
        "vecdelta = np.array([-4,2])\n",
        "C_caua = (C.T + vecdelta).T\n",
        "print(\"Tịnh tiến vector:\")\n",
        "print(C_caua)"
      ],
      "metadata": {
        "id": "fRoOlWpgmouT"
      },
      "execution_count": null,
      "outputs": []
    },
    {
      "cell_type": "code",
      "source": [
        "#d.Biến đổi tịnh tiến và shearing. Cụ thể từ (x, y) thành (x + py + a, qx + y + b), một\n",
        "#trong hai giá trị q và p bằng 0. Nghĩa là ở dạng ma trận là: "
      ],
      "metadata": {
        "id": "xEMUuOi1nE9Q"
      },
      "execution_count": null,
      "outputs": []
    },
    {
      "cell_type": "code",
      "source": [
        "import numpy as np\n",
        "print(\"Vector trước khi tịnh tiến:\")\n",
        "D = np.array([[0,0,3,3,1,1,2,2,1,1],[0,5,5,4,4,3,3,2,2,0]])\n",
        "D"
      ],
      "metadata": {
        "id": "-HFbbFmtnt1u"
      },
      "execution_count": null,
      "outputs": []
    },
    {
      "cell_type": "code",
      "source": [
        "vecdelta = np.array([4,2])"
      ],
      "metadata": {
        "id": "qlYlkZXCn0Xo"
      },
      "execution_count": null,
      "outputs": []
    }
  ]
}